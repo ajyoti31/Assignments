{
  "nbformat": 4,
  "nbformat_minor": 0,
  "metadata": {
    "colab": {
      "name": "Untitled28.ipynb",
      "provenance": [],
      "authorship_tag": "ABX9TyOxdX1DwGdqk5A0e+Qbgyls",
      "include_colab_link": true
    },
    "kernelspec": {
      "name": "python3",
      "display_name": "Python 3"
    },
    "language_info": {
      "name": "python"
    }
  },
  "cells": [
    {
      "cell_type": "markdown",
      "metadata": {
        "id": "view-in-github",
        "colab_type": "text"
      },
      "source": [
        "<a href=\"https://colab.research.google.com/github/ajyoti31/Assignments/blob/main/Programming%20Assignment_5.ipynb\" target=\"_parent\"><img src=\"https://colab.research.google.com/assets/colab-badge.svg\" alt=\"Open In Colab\"/></a>"
      ]
    },
    {
      "cell_type": "markdown",
      "metadata": {
        "id": "SPOmTD_V_ep9"
      },
      "source": [
        "1. Write a Python Program to Find LCM?\n",
        "2. Write a Python Program to Find HCF?\n",
        "3. Write a Python Program to Convert Decimal to Binary, Octal and Hexadecimal?\n",
        "4. Write a Python Program To Find ASCII value of a character?\n",
        "5. Write a Python Program to Make a Simple Calculator with 4 basic mathematical operations?"
      ]
    },
    {
      "cell_type": "code",
      "metadata": {
        "colab": {
          "base_uri": "https://localhost:8080/"
        },
        "id": "amG4WvAu_ckK",
        "outputId": "738dba0a-fd71-4a6b-ef3a-7d090d069f7e"
      },
      "source": [
        "#1.\n",
        "num1 = int(input(\"Enter first number: \"))\n",
        "num2 = int(input(\"Enter second number: \"))\n",
        "lcm = num1 if(num1 > num2) else num2\n",
        "while(True):\n",
        "    if((lcm % num1 == 0) and (lcm % num2 == 0)):\n",
        "        print(\"The L.C.M. of\", num1,\"and\", num2,\"is\", lcm)\n",
        "        break\n",
        "    lcm += 1"
      ],
      "execution_count": 1,
      "outputs": [
        {
          "output_type": "stream",
          "text": [
            "Enter first number: 6\n",
            "Enter second number: 7\n",
            "The L.C.M. of 6 and 7 is 42\n"
          ],
          "name": "stdout"
        }
      ]
    },
    {
      "cell_type": "code",
      "metadata": {
        "colab": {
          "base_uri": "https://localhost:8080/"
        },
        "id": "aoXv5s7UFzRo",
        "outputId": "2a2c9a26-42cf-4494-faa7-be955c965422"
      },
      "source": [
        "#2.\n",
        "a=int(input())\n",
        "b=int(input())\n",
        "gcd = 1\n",
        "for i in range(1,a+1):\n",
        "  if a%i==0 and b%i==0:\n",
        "    gcd = i\n",
        "print(gcd)"
      ],
      "execution_count": 7,
      "outputs": [
        {
          "output_type": "stream",
          "text": [
            "8\n",
            "4\n",
            "4\n"
          ],
          "name": "stdout"
        }
      ]
    },
    {
      "cell_type": "code",
      "metadata": {
        "colab": {
          "base_uri": "https://localhost:8080/"
        },
        "id": "38ekUsQGIYBg",
        "outputId": "ebec94da-3593-4592-c98c-5af0611e572c"
      },
      "source": [
        "#3.\n",
        "dec = int(input())\n",
        "\n",
        "print(\"The decimal value of\", dec, \"is:\")\n",
        "print(bin(dec), \"in binary.\")\n",
        "print(oct(dec), \"in octal.\")\n",
        "print(hex(dec), \"in hexadecimal.\")"
      ],
      "execution_count": 8,
      "outputs": [
        {
          "output_type": "stream",
          "text": [
            "7\n",
            "The decimal value of 7 is:\n",
            "0b111 in binary.\n",
            "0o7 in octal.\n",
            "0x7 in hexadecimal.\n"
          ],
          "name": "stdout"
        }
      ]
    },
    {
      "cell_type": "code",
      "metadata": {
        "colab": {
          "base_uri": "https://localhost:8080/"
        },
        "id": "lFeRDQthSK4J",
        "outputId": "3f6da1d5-f722-4a4f-a289-8e445c850c7b"
      },
      "source": [
        "#4.\n",
        "c = input()\n",
        "print(\"The ASCII value of '\" + c + \"' is\", ord(c))\n"
      ],
      "execution_count": 9,
      "outputs": [
        {
          "output_type": "stream",
          "text": [
            "u\n",
            "The ASCII value of 'u' is 117\n"
          ],
          "name": "stdout"
        }
      ]
    },
    {
      "cell_type": "code",
      "metadata": {
        "colab": {
          "base_uri": "https://localhost:8080/"
        },
        "id": "efzIgZdxUQnV",
        "outputId": "bbd5c358-6a98-49c8-ac47-ab20f1acde0d"
      },
      "source": [
        "# take inputs\n",
        "num1 = float(input(\"Enter first number: \"))\n",
        "num2 = float(input(\"Enter second number: \"))\n",
        "\n",
        "# choise operation\n",
        "print(\"Operation: +, -, *, /\")\n",
        "select = input(\"Select operations: \")\n",
        "\n",
        "# check operations and display result\n",
        "# add(+) two numbers\n",
        "if select == \"+\":\n",
        "    print(num1, \"+\", num2, \"=\", num1+num2)\n",
        "\n",
        "# subtract(-) two numbers\n",
        "elif select == \"-\":\n",
        "    print(num1, \"-\", num2, \"=\", num1-num2)\n",
        "\n",
        "# multiplies(*) two numbers\n",
        "elif select == \"*\":\n",
        "    print(num1, \"*\", num2, \"=\", num1*num2)\n",
        "\n",
        "# divides(/) two numbers\n",
        "elif select == \"/\":\n",
        "    print(num1, \"/\", num2, \"=\", num1/num2)\n",
        "\n",
        "else:\n",
        "    print(\"Invalid input\")"
      ],
      "execution_count": null,
      "outputs": [
        {
          "output_type": "stream",
          "text": [
            "Select operation.\n",
            "1.Add\n",
            "2.Subtract\n",
            "3.Multiply\n",
            "4.Divide\n",
            "Enter choice(1/2/3/4): 3\n",
            "Enter first number: 2\n",
            "Enter second number: 3\n",
            "2.0 * 3.0 = 6.0\n",
            "Enter choice(1/2/3/4): 2\n",
            "Enter first number: 4\n",
            "Enter second number: 5\n",
            "4.0 - 5.0 = -1.0\n",
            "Enter choice(1/2/3/4): 89\n",
            "Invalid Input\n",
            "Enter choice(1/2/3/4): 3\n"
          ],
          "name": "stdout"
        }
      ]
    },
    {
      "cell_type": "code",
      "metadata": {
        "id": "0cZk-ZS9Yvkh"
      },
      "source": [
        "5\n"
      ],
      "execution_count": null,
      "outputs": []
    }
  ]
}