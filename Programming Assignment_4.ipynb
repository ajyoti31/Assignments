{
  "nbformat": 4,
  "nbformat_minor": 0,
  "metadata": {
    "colab": {
      "name": "Untitled27.ipynb",
      "provenance": [],
      "authorship_tag": "ABX9TyM4k2Hnq6zOPSQ13RTd+HAF",
      "include_colab_link": true
    },
    "kernelspec": {
      "name": "python3",
      "display_name": "Python 3"
    },
    "language_info": {
      "name": "python"
    }
  },
  "cells": [
    {
      "cell_type": "markdown",
      "metadata": {
        "id": "view-in-github",
        "colab_type": "text"
      },
      "source": [
        "<a href=\"https://colab.research.google.com/github/ajyoti31/Assignments/blob/main/Programming%20Assignment_4.ipynb\" target=\"_parent\"><img src=\"https://colab.research.google.com/assets/colab-badge.svg\" alt=\"Open In Colab\"/></a>"
      ]
    },
    {
      "cell_type": "markdown",
      "metadata": {
        "id": "QlbHT2_1Qee-"
      },
      "source": [
        "1. Write a Python Program to Find the Factorial of a Number?\n",
        "2. Write a Python Program to Display the multiplication Table?\n",
        "3. Write a Python Program to Print the Fibonacci sequence?\n",
        "4. Write a Python Program to Check Armstrong Number?\n",
        "5. Write a Python Program to Find Armstrong Number in an Interval?\n",
        "6. Write a Python Program to Find the Sum of Natural Numbers?"
      ]
    },
    {
      "cell_type": "code",
      "metadata": {
        "colab": {
          "base_uri": "https://localhost:8080/"
        },
        "id": "1jMmAY6bQb-9",
        "outputId": "7cae6ade-5d42-41fd-ea4e-db1206a25dbb"
      },
      "source": [
        "#1\n",
        "num=int(input())\n",
        "fact=1\n",
        "if (num>0):\n",
        "  for i in range(2,num+1):\n",
        "    fact=fact*i\n",
        "\n",
        "print(\"factorial of\", num , \"is\" , fact)"
      ],
      "execution_count": 4,
      "outputs": [
        {
          "output_type": "stream",
          "text": [
            "6\n",
            "factorial of 6 is 720\n"
          ],
          "name": "stdout"
        }
      ]
    },
    {
      "cell_type": "code",
      "metadata": {
        "colab": {
          "base_uri": "https://localhost:8080/"
        },
        "id": "eMtbemNIRfkx",
        "outputId": "e39e39d2-28f2-4774-c71b-d410df5b411f"
      },
      "source": [
        "#2\n",
        "num=int(input())\n",
        "fact=1\n",
        "if (num>0):\n",
        "  for i in range(1,11):\n",
        "    print(num,\"x\",i,\"=\",num*i )"
      ],
      "execution_count": 6,
      "outputs": [
        {
          "output_type": "stream",
          "text": [
            "4\n",
            "4 x 1 = 4\n",
            "4 x 2 = 8\n",
            "4 x 3 = 12\n",
            "4 x 4 = 16\n",
            "4 x 5 = 20\n",
            "4 x 6 = 24\n",
            "4 x 7 = 28\n",
            "4 x 8 = 32\n",
            "4 x 9 = 36\n",
            "4 x 10 = 40\n"
          ],
          "name": "stdout"
        }
      ]
    },
    {
      "cell_type": "code",
      "metadata": {
        "colab": {
          "base_uri": "https://localhost:8080/"
        },
        "id": "mpudfcR4bXoa",
        "outputId": "60bb4564-7756-409c-e006-f0b801d1b7c6"
      },
      "source": [
        "#3\n",
        "num=int(input(\"how many terms=\"))\n",
        "a=0\n",
        "b=1\n",
        "i=0\n",
        "fact=1\n",
        "while (i<num):\n",
        "  print(a)\n",
        "  c=a+b\n",
        "  a=b\n",
        "  b=c\n",
        "  i=i+1\n",
        "\n",
        "  "
      ],
      "execution_count": 14,
      "outputs": [
        {
          "output_type": "stream",
          "text": [
            "how many terms=0\n"
          ],
          "name": "stdout"
        }
      ]
    },
    {
      "cell_type": "code",
      "metadata": {
        "colab": {
          "base_uri": "https://localhost:8080/"
        },
        "id": "JEf-yE35chhU",
        "outputId": "fc6e538a-e251-4ad9-b618-32a602ca2a65"
      },
      "source": [
        "#4\n",
        "num=input()\n",
        "num1=num\n",
        "num=int(num)\n",
        "sum=0\n",
        "l=len(num1)\n",
        "while (num>0):\n",
        "  a=num%10\n",
        "  sum=sum + (a**l)\n",
        "  num=num//10\n",
        "if(int(num1)==sum):\n",
        "  print(\"armstrong number\")\n",
        "else:\n",
        "  print(\"not an armstrong number\")"
      ],
      "execution_count": 34,
      "outputs": [
        {
          "output_type": "stream",
          "text": [
            "153\n",
            "armstrong number\n"
          ],
          "name": "stdout"
        }
      ]
    },
    {
      "cell_type": "code",
      "metadata": {
        "colab": {
          "base_uri": "https://localhost:8080/"
        },
        "id": "6fhiqK8mqoAP",
        "outputId": "1355438b-6f03-4164-cefa-f1a3a2df2926"
      },
      "source": [
        "#5.\n",
        "lower=int(input())\n",
        "upper=int(input())\n",
        "for num in range(lower, upper + 1):\n",
        "\n",
        "   # order of number\n",
        "   order = len(str(num))\n",
        "    \n",
        "   # initialize sum\n",
        "   sum = 0\n",
        "\n",
        "   temp = num\n",
        "   while temp > 0:\n",
        "       digit = temp % 10\n",
        "       sum += digit ** order\n",
        "       temp //= 10\n",
        "\n",
        "   if num == sum:\n",
        "       print(num)"
      ],
      "execution_count": 33,
      "outputs": [
        {
          "output_type": "stream",
          "text": [
            "1\n",
            "100000\n",
            "1\n",
            "2\n",
            "3\n",
            "4\n",
            "5\n",
            "6\n",
            "7\n",
            "8\n",
            "9\n",
            "153\n",
            "370\n",
            "371\n",
            "407\n",
            "1634\n",
            "8208\n",
            "9474\n",
            "54748\n",
            "92727\n",
            "93084\n"
          ],
          "name": "stdout"
        }
      ]
    },
    {
      "cell_type": "code",
      "metadata": {
        "colab": {
          "base_uri": "https://localhost:8080/"
        },
        "id": "IWUdqhd1wrHV",
        "outputId": "67529dff-83a7-4ba9-ca37-5cd5962dc4a8"
      },
      "source": [
        "#6.\n",
        "a=int(input(\"print the natural for sum\"))\n",
        "sum=0\n",
        "i=1\n",
        "while i<=a :\n",
        "  sum=sum+i\n",
        "  i+=1\n",
        "print(\"sum of first\", a ,\"natural number is\", sum)"
      ],
      "execution_count": 41,
      "outputs": [
        {
          "output_type": "stream",
          "text": [
            "3\n",
            "sum of first 3 natural number is 6\n"
          ],
          "name": "stdout"
        }
      ]
    },
    {
      "cell_type": "code",
      "metadata": {
        "id": "olHEkcceyCiU"
      },
      "source": [
        ""
      ],
      "execution_count": null,
      "outputs": []
    }
  ]
}