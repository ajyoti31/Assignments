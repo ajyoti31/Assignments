{
  "nbformat": 4,
  "nbformat_minor": 0,
  "metadata": {
    "colab": {
      "name": "Untitled25.ipynb",
      "provenance": [],
      "authorship_tag": "ABX9TyMke4uYSoyt8dWW6wdSsHS3",
      "include_colab_link": true
    },
    "kernelspec": {
      "name": "python3",
      "display_name": "Python 3"
    },
    "language_info": {
      "name": "python"
    }
  },
  "cells": [
    {
      "cell_type": "markdown",
      "metadata": {
        "id": "view-in-github",
        "colab_type": "text"
      },
      "source": [
        "<a href=\"https://colab.research.google.com/github/ajyoti31/Assignments/blob/main/Programming%20Assignment_2.ipynb\" target=\"_parent\"><img src=\"https://colab.research.google.com/assets/colab-badge.svg\" alt=\"Open In Colab\"/></a>"
      ]
    },
    {
      "cell_type": "markdown",
      "metadata": {
        "id": "anYaxw6x1zYR"
      },
      "source": [
        "1. Write a Python program to convert kilometers to miles?\n",
        "2. Write a Python program to convert Celsius to Fahrenheit?\n",
        "3. Write a Python program to display calendar?\n",
        "4. Write a Python program to solve quadratic equation?\n",
        "5. Write a Python program to swap two variables without temp variable?"
      ]
    },
    {
      "cell_type": "code",
      "metadata": {
        "colab": {
          "base_uri": "https://localhost:8080/"
        },
        "id": "A-xcYXbf1e-I",
        "outputId": "11146b91-0000-4195-e0c0-9bb6704c565e"
      },
      "source": [
        "#1\n",
        "km=int(input())\n",
        "print(\"miles=\", 0.62137119224*km)"
      ],
      "execution_count": 2,
      "outputs": [
        {
          "output_type": "stream",
          "text": [
            "10\n",
            "miles= 6.2137119224\n"
          ],
          "name": "stdout"
        }
      ]
    },
    {
      "cell_type": "code",
      "metadata": {
        "colab": {
          "base_uri": "https://localhost:8080/"
        },
        "id": "h48f0_iM2bta",
        "outputId": "6890fa42-acec-4ae9-d962-e66164547f7c"
      },
      "source": [
        "#2\n",
        "F=int(input())\n",
        "print(\"Farenheit=\", F * 1.8 + 32)"
      ],
      "execution_count": 5,
      "outputs": [
        {
          "output_type": "stream",
          "text": [
            "90\n",
            "Farenheit= 194.0\n"
          ],
          "name": "stdout"
        }
      ]
    },
    {
      "cell_type": "code",
      "metadata": {
        "colab": {
          "base_uri": "https://localhost:8080/"
        },
        "id": "DKr4CcBe-f4-",
        "outputId": "085b6ea9-e82f-48b9-87f0-9b7b3e9147de"
      },
      "source": [
        "#3\n",
        "import calendar\n",
        "\n",
        "yy = int(input(\"Enter year: \"))\n",
        "mm = int(input(\"Enter month: \"))\n",
        "\n",
        "# display the calendar\n",
        "print(calendar.month(yy, mm))"
      ],
      "execution_count": 2,
      "outputs": [
        {
          "output_type": "stream",
          "text": [
            "Enter year: 1996\n",
            "Enter month: 5\n",
            "      May 1996\n",
            "Mo Tu We Th Fr Sa Su\n",
            "       1  2  3  4  5\n",
            " 6  7  8  9 10 11 12\n",
            "13 14 15 16 17 18 19\n",
            "20 21 22 23 24 25 26\n",
            "27 28 29 30 31\n",
            "\n"
          ],
          "name": "stdout"
        }
      ]
    },
    {
      "cell_type": "code",
      "metadata": {
        "colab": {
          "base_uri": "https://localhost:8080/"
        },
        "id": "heHxyp5z_e8F",
        "outputId": "74b377b5-862b-4002-8e41-00dc34019976"
      },
      "source": [
        "#4\n",
        "import math\n",
        "\n",
        "a = float(input(\"Insert coefficient a: \"))\n",
        "b = float(input(\"Insert coefficient b: \"))\n",
        "c = float(input(\"Insert coefficient c: \"))\n",
        "\n",
        "discriminant = b**2 - 4 * a * c\n",
        "\n",
        "if discriminant >= 0:\n",
        "    x_1=(-b+math.sqrt(discriminant))/2*a\n",
        "    x_2=(-b-math.sqrt(discriminant))/2*a\n",
        "else:\n",
        "    x_1= complex((-b/(2*a)),math.sqrt(-discriminant)/(2*a))\n",
        "    x_2= complex((-b/(2*a)),-math.sqrt(-discriminant)/(2*a))\n",
        "\n",
        "if discriminant > 0:\n",
        "    print(\"The function has two distinct real roots: {} and {}\".format(x_1,x_2))\n",
        "elif discriminant == 0:\n",
        "    print(\"The function has one double root: \", x_1)\n",
        "else:\n",
        "    print(\"The function has two complex (conjugate) roots: {}  and {}\".format(x_1,x_2))"
      ],
      "execution_count": 7,
      "outputs": [
        {
          "output_type": "stream",
          "text": [
            "Insert coefficient a: 1\n",
            "Insert coefficient b: 2\n",
            "Insert coefficient c: 4\n",
            "The function has two complex (conjugate) roots: (-1+1.7320508075688772j)  and (-1-1.7320508075688772j)\n"
          ],
          "name": "stdout"
        }
      ]
    },
    {
      "cell_type": "code",
      "metadata": {
        "colab": {
          "base_uri": "https://localhost:8080/"
        },
        "id": "9ea8bpv2AV7d",
        "outputId": "afa09623-7b74-4c50-9d17-50c91d6e4a4c"
      },
      "source": [
        "#5\n",
        "x=int(input())\n",
        "y=int(input())\n",
        "print(x,y)\n",
        "x = x + y; y = x - y; x = x - y;\n",
        "print(x,y)"
      ],
      "execution_count": 9,
      "outputs": [
        {
          "output_type": "stream",
          "text": [
            "4\n",
            "7\n",
            "4 7\n",
            "7 4\n"
          ],
          "name": "stdout"
        }
      ]
    },
    {
      "cell_type": "code",
      "metadata": {
        "id": "TYafH8fGBPeL"
      },
      "source": [
        "  "
      ],
      "execution_count": null,
      "outputs": []
    }
  ]
}